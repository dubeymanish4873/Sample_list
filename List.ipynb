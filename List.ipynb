{
 "cells": [
  {
   "cell_type": "code",
   "execution_count": 1,
   "id": "60ae11c6",
   "metadata": {},
   "outputs": [
    {
     "data": {
      "text/plain": [
       "[1, 3, 46, 'hello', 12]"
      ]
     },
     "execution_count": 1,
     "metadata": {},
     "output_type": "execute_result"
    }
   ],
   "source": [
    "sample_my_list=[1,3,46,\"hello\",12]\n",
    "sample_my_list"
   ]
  },
  {
   "cell_type": "code",
   "execution_count": 2,
   "id": "520e9f79",
   "metadata": {},
   "outputs": [],
   "source": [
    "## list is hetrogenous as it store multiple datatype"
   ]
  },
  {
   "cell_type": "code",
   "execution_count": 3,
   "id": "35a145e8",
   "metadata": {},
   "outputs": [
    {
     "data": {
      "text/plain": [
       "46"
      ]
     },
     "execution_count": 3,
     "metadata": {},
     "output_type": "execute_result"
    }
   ],
   "source": [
    "sample_my_list[2]"
   ]
  },
  {
   "cell_type": "code",
   "execution_count": 4,
   "id": "3dca4f25",
   "metadata": {},
   "outputs": [
    {
     "ename": "IndexError",
     "evalue": "list index out of range",
     "output_type": "error",
     "traceback": [
      "\u001b[1;31m---------------------------------------------------------------------------\u001b[0m",
      "\u001b[1;31mIndexError\u001b[0m                                Traceback (most recent call last)",
      "Cell \u001b[1;32mIn[4], line 1\u001b[0m\n\u001b[1;32m----> 1\u001b[0m \u001b[43msample_my_list\u001b[49m\u001b[43m[\u001b[49m\u001b[38;5;241;43m10\u001b[39;49m\u001b[43m]\u001b[49m\n",
      "\u001b[1;31mIndexError\u001b[0m: list index out of range"
     ]
    }
   ],
   "source": [
    "sample_my_list[10]"
   ]
  },
  {
   "cell_type": "code",
   "execution_count": 5,
   "id": "bfd1f9ca",
   "metadata": {},
   "outputs": [
    {
     "data": {
      "text/plain": [
       "12"
      ]
     },
     "execution_count": 5,
     "metadata": {},
     "output_type": "execute_result"
    }
   ],
   "source": [
    "sample_my_list[-1]"
   ]
  },
  {
   "cell_type": "code",
   "execution_count": 6,
   "id": "13051e18",
   "metadata": {},
   "outputs": [
    {
     "data": {
      "text/plain": [
       "46"
      ]
     },
     "execution_count": 6,
     "metadata": {},
     "output_type": "execute_result"
    }
   ],
   "source": [
    "sample_my_list[-3]"
   ]
  },
  {
   "cell_type": "code",
   "execution_count": 7,
   "id": "2684f2b6",
   "metadata": {},
   "outputs": [],
   "source": [
    "sample_my_list[0]=100"
   ]
  },
  {
   "cell_type": "code",
   "execution_count": 8,
   "id": "6d6d73be",
   "metadata": {},
   "outputs": [
    {
     "data": {
      "text/plain": [
       "[100, 3, 46, 'hello', 12]"
      ]
     },
     "execution_count": 8,
     "metadata": {},
     "output_type": "execute_result"
    }
   ],
   "source": [
    "sample_my_list"
   ]
  },
  {
   "cell_type": "code",
   "execution_count": 9,
   "id": "1836a671",
   "metadata": {},
   "outputs": [],
   "source": [
    "## mutable->we can update any element of the list "
   ]
  },
  {
   "cell_type": "code",
   "execution_count": 10,
   "id": "92ad20a8",
   "metadata": {},
   "outputs": [
    {
     "data": {
      "text/plain": [
       "3"
      ]
     },
     "execution_count": 10,
     "metadata": {},
     "output_type": "execute_result"
    }
   ],
   "source": [
    "sample_my_list[-4]"
   ]
  },
  {
   "cell_type": "code",
   "execution_count": null,
   "id": "b749a6f0",
   "metadata": {},
   "outputs": [],
   "source": []
  }
 ],
 "metadata": {
  "kernelspec": {
   "display_name": "Python 3 (ipykernel)",
   "language": "python",
   "name": "python3"
  },
  "language_info": {
   "codemirror_mode": {
    "name": "ipython",
    "version": 3
   },
   "file_extension": ".py",
   "mimetype": "text/x-python",
   "name": "python",
   "nbconvert_exporter": "python",
   "pygments_lexer": "ipython3",
   "version": "3.11.1"
  }
 },
 "nbformat": 4,
 "nbformat_minor": 5
}
